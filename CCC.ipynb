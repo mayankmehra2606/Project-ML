{
  "nbformat": 4,
  "nbformat_minor": 0,
  "metadata": {
    "colab": {
      "name": "CCC.ipynb",
      "provenance": [],
      "authorship_tag": "ABX9TyNFhfvFR0jN+tePdlKNvh0I",
      "include_colab_link": true
    },
    "kernelspec": {
      "name": "python3",
      "display_name": "Python 3"
    },
    "language_info": {
      "name": "python"
    }
  },
  "cells": [
    {
      "cell_type": "markdown",
      "metadata": {
        "id": "view-in-github",
        "colab_type": "text"
      },
      "source": [
        "<a href=\"https://colab.research.google.com/github/mayankmehra2606/Project-ML/blob/main/CCC.ipynb\" target=\"_parent\"><img src=\"https://colab.research.google.com/assets/colab-badge.svg\" alt=\"Open In Colab\"/></a>"
      ]
    },
    {
      "cell_type": "code",
      "execution_count": null,
      "metadata": {
        "id": "j1v3mZXRDcXU"
      },
      "outputs": [],
      "source": [
        "import matplotlib.pyplot as plt\n",
        "import numpy as np\n",
        "import cv2"
      ]
    },
    {
      "cell_type": "code",
      "source": [
        "# Centroid\n",
        "test = cv2.imread(\"img1.png\")\n",
        "grey_img = cv2.cvtColor(test,cv2.COLOR_BGR2GRAY)\n",
        "canny_edge = cv2.Canny(grey_img,0,300)\n",
        "M = cv2.moments(canny_edge)\n",
        "xcenter = int(M['m10']/M['m00'])\n",
        "ycenter = int(M['m01']/M['m00'])\n",
        "circle = cv2.circle(test,(xcenter,ycenter),4,(255,255,255),-1)\n",
        "#font\n",
        "font = cv2.FONT_HERSHEY_SIMPLEX\n",
        "#color\n",
        "color = (255, 0, 0)\n",
        "#org\n",
        "org = (xcenter-25,ycenter-25)\n",
        "# fontScale\n",
        "fontScale = 0.6\n",
        "# Line thickness of 2 px\n",
        "thickness = 2\n",
        "#text\n",
        "text = \"Centroid\" + \" = \" + \"(\" + str(xcenter)+ \",\" + str(ycenter) + \")\"\n",
        "image = cv2.putText(test, text, org, font, fontScale, color,thickness)\n",
        "plt.imshow(test)"
      ],
      "metadata": {
        "colab": {
          "base_uri": "https://localhost:8080/",
          "height": 286
        },
        "id": "Qj2X-kBWfS07",
        "outputId": "dbd4698e-01ff-4668-91a5-bd8414116a7c"
      },
      "execution_count": null,
      "outputs": [
        {
          "output_type": "execute_result",
          "data": {
            "text/plain": [
              "<matplotlib.image.AxesImage at 0x7f6241f0efd0>"
            ]
          },
          "metadata": {},
          "execution_count": 13
        },
        {
          "output_type": "display_data",
          "data": {
            "text/plain": [
              "<Figure size 432x288 with 1 Axes>"
            ],
            "image/png": "[encoded data removed]"
          },
          "metadata": {
            "needs_background": "light"
          }
        }
      ]
    },
    {
      "cell_type": "code",
      "source": [],
      "metadata": {
        "id": "SEoi-K7Pl7SQ"
      },
      "execution_count": null,
      "outputs": []
    }
  ]
}